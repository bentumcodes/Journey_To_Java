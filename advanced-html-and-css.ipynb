{
 "cells": [
  {
   "cell_type": "markdown",
   "metadata": {},
   "source": [
    "# Advanced HTML and CSS\n",
    "\n",
    "![](https://i.imgur.com/iLIPT73.png)"
   ]
  },
  {
   "cell_type": "markdown",
   "metadata": {},
   "source": [
    "In this tutorial, we'll will dive deeper into the world of web development by learning advanced techniques for designing and styling websites using HTML and CSS. We will learn how to create HTML tags, use advanced CSS properties, and optimize your code for performance and accessibility. "
   ]
  },
  {
   "cell_type": "markdown",
   "metadata": {},
   "source": [
    "The following topics are covered in this tutorial: \n",
    "\n",
    "- Iteratively improving an existing web page by adding/modifying sections\n",
    "- Creating and styling HTML tables to display tabular data on a web page\n",
    "- Understanding various text-related CSS properties and how they are used\n",
    "- Understanding CSS colors and picking appropriate colors for clarity and aesthetics\n",
    "- Creating an HTML form to collect user inputs and exploring various HTML input types\n",
    "- Collecting and viewing form responses using an external server\n",
    "- Using meta tags to improve how a deployed page previews when shared as a link\n",
    "\n",
    "The best way to learn these skills is to follow along step-by-step and type out all the code yourself. This tutorial assumes [basic knowledge of HTML & CSS](https://jovian.com/learn/web-development-with-html-and-css/lesson/html-and-css-basics). "
   ]
  },
  {
   "cell_type": "markdown",
   "metadata": {},
   "source": [
    "## Problem Statement\n",
    "\n",
    "We'll explore abovementioned topics in HTML & CSS by attempting to solve this problem statement:\n",
    "\n",
    "> Improve the [Jovian Careers website](https://jovian-careers.static.app/) created in [the previous tutorial](https://jovian.com/sydney/html-and-css-basics) by making the following changes:\n",
    "> \n",
    "> - Show the list of jobs in a tabular format with columns for job title, location, salary, and posted date\n",
    "> - Show an application form below the jobs table where a user can fill out and submit an application\n",
    "> - Improve the aesthetics of the page using appropriate fonts, text sizes and colors\n",
    "> - Deploy the page to the cloud and ensure it previews properly when shared as a link\n"
   ]
  },
  {
   "cell_type": "markdown",
   "metadata": {},
   "source": [
    "The code for this tutorial can be found here: \n",
    "\n",
    "- Starter code: https://www.dropbox.com/s/elkh6vcct1r84ev/my-first-web-page.zip?dl=1\n",
    "\n",
    "- Completed code: https://www.dropbox.com/s/5f9yt4tq68ea8pt/my-second-web-page.zip?dl=1\n",
    "\n",
    "- Finished site: https://jovian-job.static.app/\n",
    "\n",
    "To begin, let's download & extract the starter code, rename the project folder to `my-second-web-page`, open it up in VS Code for editing, and on a browser for viewing.\n",
    "\n"
   ]
  },
  {
   "cell_type": "markdown",
   "metadata": {},
   "source": [
    "## Improving the Wireframe\n",
    "\n"
   ]
  },
  {
   "cell_type": "markdown",
   "metadata": {},
   "source": [
    "In the previous tutorial, we created a wireframe for a website that included several sections: a navigation bar, a banner image, an \"About Jovian\" section, a list of job openings (showing designation and location), and a footer with useful links.\n",
    "\n",
    "<img src=\"https://i.imgur.com/dzEIWyN.png\" width=\"360\">"
   ]
  },
  {
   "cell_type": "markdown",
   "metadata": {},
   "source": [
    "Based on the current problem statement, we need to make some changes to the wireframe to better meet our needs. In the world of web development, this process of refining and improving a website through multiple iterations is called iterative work and it's how most modern web applications are built.\n",
    "\n",
    "<img src=\"https://i.imgur.com/xuNyOvS.png\" width=\"640\">"
   ]
  },
  {
   "cell_type": "markdown",
   "metadata": {},
   "source": [
    "We'll replace the list of job openings with a table. Some of the benefits of using a table include:\n",
    "\n",
    "- **Improved readability**: Tables make it easier for users to scan and compare information.\n",
    "\n",
    "- **Better organization**: By organizing the job openings in a table, we can group them by department, location, or other relevant criteria.\n",
    "\n",
    "- **Enhanced functionality**: Tables can be easily sorted, searched, and filtered, providing users with more options to find the job they are interested in."
   ]
  },
  {
   "cell_type": "markdown",
   "metadata": {},
   "source": [
    "We'll also add an application form below the table. The form will ask for the following information:\n",
    "\n",
    "- Name\n",
    "- Email\n",
    "- Applied Job\n",
    "- Phone number\n",
    "- Resume\n",
    "- Cover letter\n"
   ]
  },
  {
   "cell_type": "markdown",
   "metadata": {},
   "source": [
    "Here's what the final revised wireframe looks like:\n",
    "\n",
    "<img src=\"https://i.imgur.com/Cb0trLu.png\" width=\"360\">\n",
    "\n"
   ]
  },
  {
   "cell_type": "markdown",
   "metadata": {},
   "source": [
    "**NOTE**: For personal projects, a wireframe is usually enough to plan a website's design and layout. However, in a professional setting, UI designers often create detailed mockups providing more information on colors, fonts, and visual elements."
   ]
  },
  {
   "cell_type": "markdown",
   "metadata": {},
   "source": [
    "> **EXERCISE**: Replicate the above wireframe using https://excalidraw.com and make some changes (e.g. add a new section)."
   ]
  },
  {
   "cell_type": "markdown",
   "metadata": {},
   "source": [
    "## Tables in HTML\n",
    "\n",
    "<img src=\"https://i.imgur.com/WVh0bkw.png\" width=\"320\">\n"
   ]
  },
  {
   "cell_type": "markdown",
   "metadata": {},
   "source": [
    "Tables are a fundamental component of HTML used for displaying data in a structured manner. Tables are versatile and can be used to organize a variety of data types, including text, images, and other HTML elements. \n",
    "\n",
    "\n",
    "- Tables are created using a combination of `<table>`, `<tr>`, `<td>`, and `<th>` tags.\n",
    "\n",
    "\n",
    "- Tables can be styled using CSS to add borders, backgrounds, and other visual elements.\n",
    "\n",
    "\n",
    "- Tables can be manipulated to merge cells or adjust the size of columns and rows.\n",
    "\n",
    "\n",
    "- Tables should be used appropriately and sparingly to avoid cluttering a web page or application."
   ]
  },
  {
   "cell_type": "markdown",
   "metadata": {},
   "source": [
    "### `table`, `tr` and `td` Tags\n",
    "\n",
    "The following tags are used to create tables, rows, and cells:\n",
    "\n",
    "- The `<table>` tag is used to create a table in HTML. All other table-related tags are nested inside this tag.\n",
    "\n",
    "\n",
    "- The `<tr>` tag is used to create a table row. Each row contains one or more table cells (`<td>` or `<th>` tags).\n",
    "\n",
    "\n",
    "- The `<th>` tag is used to create a table header cell in HTML, and is typically used to denote column or row headings within a table. \n",
    "\n",
    "\n",
    "- The `<td>` tag is used to create a standard table cell. This tag is typically used to hold data such as text, images, or other HTML elements.\n",
    "\n"
   ]
  },
  {
   "cell_type": "markdown",
   "metadata": {},
   "source": [
    "Here's an example:\n",
    "\n",
    "```html\n",
    "<table border=\"1\">\n",
    "  <tr>\n",
    "    <th>Heading 1</th>\n",
    "    <th>Heading 2</th>\n",
    "  </tr>\n",
    "  <tr>\n",
    "    <td>Data 1</td>\n",
    "    <td>Data 2</td>\n",
    "  </tr>\n",
    "  <tr>\n",
    "    <td>Data 3</td>\n",
    "    <td>Data 4</td>\n",
    "  </tr>\n",
    "</table>\n",
    "\n",
    "```\n",
    "\n",
    "The `border` attribute is used to provide a border width for the table and individual cells."
   ]
  },
  {
   "cell_type": "markdown",
   "metadata": {},
   "source": [
    "The above code produces the following table:\n",
    "\n",
    "<img src=\"https://i.imgur.com/B4EGDuO.png\" width=\"360\">\n",
    "\n",
    "**Tip**: Use https://jsbin.com to experiment quickly preview the out HTML code snippets."
   ]
  },
  {
   "cell_type": "markdown",
   "metadata": {},
   "source": [
    " > **EXERCISE**: What happens if you include a different number of cells in each row, or if you include `td` tags directly within the `table` tag? Try it out yourself and observe the results!"
   ]
  },
  {
   "cell_type": "markdown",
   "metadata": {},
   "source": [
    "### Creating the Jobs Table\n",
    "\n",
    "Let's add a jobs table to our web page containing the following information:\n",
    "\n",
    "<img src=\"https://i.imgur.com/kEBurvN.png\" width=\"640\">\n",
    "\n",
    "**Tip**: Before writing code for an HTML table, you can create a sample table [using a spreadsheet](https://docs.google.com/spreadsheets/d/1FSBOC47vF3XqFMP_bX7hX8xj5X6AVkGnrcqLYlagJLo/edit#gid=0) to serve as a reference."
   ]
  },
  {
   "cell_type": "markdown",
   "metadata": {},
   "source": [
    "The following code will create the jobs table:\n",
    "\n",
    "\n",
    "```html\n",
    "<table id=\"jobs-table\">\n",
    "    <tr class=\"jobs-header-row\">\n",
    "        <th>Job Title</th>\n",
    "        <th>Location</th>\n",
    "        <th>Salary</th>\n",
    "        <th>Posted On</th>\n",
    "    </tr>\n",
    "    <tr class=\"jobs-data-row\">\n",
    "        <td>Frontend Developer</td>\n",
    "        <td>Bengaluru, India</td>\n",
    "        <td>₹12,00,000</td>\n",
    "        <td>Mar 3, 2023</td>\n",
    "    </tr>\n",
    "    <tr class=\"jobs-data-row\">\n",
    "        <td>Full Stack Developer</td>\n",
    "        <td>New Delhi, India</td>\n",
    "        <td>₹15,00,000</td>\n",
    "        <td>Feb 1, 2023</td>\n",
    "    </tr>\n",
    "    <tr class=\"jobs-data-row\">\n",
    "        <td>Data Scientist</td>\n",
    "        <td>San Francisco, USA</td>\n",
    "        <td>$175,000</td>\n",
    "        <td>Dec 22, 2022</td>\n",
    "    </tr>\n",
    "    <tr class=\"jobs-data-row\">\n",
    "        <td>ML Engineer</td>\n",
    "        <td>Remote</td>\n",
    "        <td>$80,000</td>\n",
    "        <td>Sep 19, 2022</td>\n",
    "    </tr>\n",
    "</table>\n",
    "\n",
    "```\n",
    "\n",
    "We've given the `table` tag an `id ` and added classes for the `tr` tags for styling with CSS."
   ]
  },
  {
   "cell_type": "markdown",
   "metadata": {},
   "source": [
    "Here's what the table looks like:\n",
    "\n",
    "\n",
    "<img src=\"https://i.imgur.com/ORPNA5y.png\" width=\"520\">"
   ]
  },
  {
   "cell_type": "markdown",
   "metadata": {},
   "source": [
    "> **EXERCISE**: Add more rows and columns to the jobs table e.g. requirements, responsibilities etc. Try including paragraphs and lists within table cells. As you do so, you might need to set vary the widths of different columns, as explained here: https://www.w3schools.com/html/html_table_sizes.asp"
   ]
  },
  {
   "cell_type": "markdown",
   "metadata": {},
   "source": [
    "## Styling HTML Tables\n",
    "\n",
    "Styling HTML tables with CSS can greatly improve the visual appeal and readability of a website.\n",
    "\n",
    "<a href=\"https://stripe.com/jobs/search\" target=\"_blank\"><img src=\"https://i.imgur.com/fJOmpOU.png\" width=\"640\"></a>"
   ]
  },
  {
   "cell_type": "markdown",
   "metadata": {},
   "source": [
    "### Basic Styling with CSS"
   ]
  },
  {
   "cell_type": "markdown",
   "metadata": {},
   "source": [
    "\n",
    "We can use simple CSS properties to make the following changes to our table:\n",
    "\n",
    "1. We'll add borders around the table and table cells\n",
    "2. We'll make the table full width on the page\n",
    "3. We'll left align the headers so that they're in line with values\n",
    "4. We'll show a different background color for the headers\n",
    "5. We'll add alternate colors to the rows using nth-child (even) and odd"
   ]
  },
  {
   "cell_type": "markdown",
   "metadata": {},
   "source": [
    "Here are the CSS properties we need to apply in the `styles.css` file:\n",
    "\n",
    "\n",
    "```css\n",
    "\n",
    "#jobs-table {\n",
    "  width: 100%;\n",
    "  border: 1px solid grey;\n",
    "  border-collapse:collapse;\n",
    "}\n",
    "\n",
    "#jobs-table th {\n",
    "  border: 1px solid grey;\n",
    "  padding: 4px 8px;\n",
    "  text-align: left;\n",
    "  background-color: aliceblue;\n",
    "}\n",
    "\n",
    "#jobs-table td {\n",
    "  border-right: 1px solid grey;\n",
    "  padding: 4px 8px;\n",
    "}\n",
    "\n",
    "\n",
    "```\n"
   ]
  },
  {
   "cell_type": "markdown",
   "metadata": {},
   "source": [
    "In addition, the following styles will add an alternating background color pattern for the rows:\n",
    "\n",
    "\n",
    "```css\n",
    "#jobs-table tr:nth-child(odd) {\n",
    "  background-color: ghostwhite;\n",
    "}\n",
    "```\n"
   ]
  },
  {
   "cell_type": "markdown",
   "metadata": {},
   "source": [
    "Here's what the table looks like after applying the styles:\n",
    "\n",
    "<img src=\"https://i.imgur.com/Rr1zXRi.png\" width=\"640\">"
   ]
  },
  {
   "cell_type": "markdown",
   "metadata": {},
   "source": [
    "> **EXERCISE**: Learn more about styling rows and columns of table here: https://www.w3schools.com/html/html_table_styling.asp . Try creating a repeating 3-color background pattern for the rows of the table."
   ]
  },
  {
   "cell_type": "markdown",
   "metadata": {},
   "source": [
    "### Merging Rows & Columns\n",
    "\n",
    "<img src=\"https://i.imgur.com/EbgTIfU.png\" width=\"640\">"
   ]
  },
  {
   "cell_type": "markdown",
   "metadata": {},
   "source": [
    "Merging rows and columns in HTML tables can be useful for displaying data in a more organized and readable format. This can be done using the `rowspan` and `colspan` attributes for `th` and `td` tags."
   ]
  },
  {
   "cell_type": "markdown",
   "metadata": {},
   "source": [
    "We can modify the HTML code for the table as follows:\n",
    "\n",
    "\n",
    "```html\n",
    "<table id=\"jobs-table\">\n",
    "    <tr class=\"jobs-header-row\">\n",
    "        <th rowspan=\"2\">Job Title</th>\n",
    "        <th colspan=\"2\">Location</th>\n",
    "        <th rowspan=\"2\">Salary</th>\n",
    "        <th rowspan=\"2\">Posted On</th>\n",
    "    </tr>\n",
    "    <tr class=\"jobs-header-row\">\n",
    "        <th>City</th>\n",
    "        <th>Country</th>\n",
    "    </tr>\n",
    "    <tr class=\"jobs-data-row\">\n",
    "        <td>Frontend Developer</td>\n",
    "        <td>Bengaluru</td>\n",
    "        <td>India</td>\n",
    "        <td>₹12,00,000</td>\n",
    "        <td>Mar 3, 2023</td>\n",
    "    </tr>\n",
    "    <tr class=\"jobs-data-row\">\n",
    "        <td>Full Stack Developer</td>\n",
    "        <td>New Delhi</td>\n",
    "        <td>India</td>\n",
    "        <td>₹15,00,000</td>\n",
    "        <td>Feb 1, 2023</td>\n",
    "    </tr>\n",
    "    <tr class=\"jobs-data-row\">\n",
    "        <td>Data Scientist</td>\n",
    "        <td>San Francisco</td>\n",
    "        <td>USA</td>\n",
    "        <td>$175,000</td>\n",
    "        <td>Dec 22, 2022</td>\n",
    "    </tr>\n",
    "    <tr class=\"jobs-data-row\">\n",
    "        <td>ML Engineer</td>\n",
    "        <td colspan=\"2\">Remote</td>\n",
    "        <td>$80,000</td>\n",
    "        <td>Sep 19, 2022</td>\n",
    "    </tr>\n",
    "</table>\n",
    "\n",
    "```"
   ]
  },
  {
   "cell_type": "markdown",
   "metadata": {},
   "source": [
    "The following CSS changes are also required:\n",
    "\n",
    "```css\n",
    "#jobs-table th {\n",
    "  border: 1px solid grey;\n",
    "  padding: 8px;\n",
    "  text-align: center;\n",
    "  background-color: aliceblue;\n",
    "}\n",
    "\n",
    "#jobs-table td {\n",
    "  border-right: 1px solid grey;\n",
    "  padding: 8px;\n",
    "}\n",
    "\n",
    "```"
   ]
  },
  {
   "cell_type": "markdown",
   "metadata": {},
   "source": [
    "Here's what the table now looks like:\n",
    "\n",
    "<img src=\"https://i.imgur.com/SYsaFua.png\" width=\"640\">"
   ]
  },
  {
   "cell_type": "markdown",
   "metadata": {},
   "source": [
    "> **EXERCISE**: Learn more and experiment with `rowspan` and `colspan` here: https://www.w3schools.com/html/html_table_colspan_rowspan.asp . Create a layout on paper with some sample data and try to replicate it using HTML & CSS."
   ]
  },
  {
   "cell_type": "markdown",
   "metadata": {},
   "source": [
    "## Text Styles in CSS\n",
    "\n",
    "\n"
   ]
  },
  {
   "cell_type": "markdown",
   "metadata": {},
   "source": [
    "CSS provides a wide range of text styling properties that allow you to change the appearance of text in your web pages. These properties can be used to modify the font, size, color, spacing, and other visual aspects of text. "
   ]
  },
  {
   "cell_type": "markdown",
   "metadata": {},
   "source": [
    "### Using External Fonts\n",
    "\n",
    "<img src=\"https://i.imgur.com/TA1cln6.png\" width=\"480\">\n"
   ]
  },
  {
   "cell_type": "markdown",
   "metadata": {},
   "source": [
    "Using external fonts in CSS allows you to use fonts that are not commonly found on most computers. This can help make your website stand out and look more unique. Here's how you can add external fonts to your website: \n",
    "\n",
    "1. **Choose a font from Google Fonts**: Visit [Google Fonts](https://fonts.google.com/) to browse and select a font that you want to use on your website.\n",
    "\n",
    "\n",
    "2. **Add the font to your CSS using the link tag**: Google Fonts provides a link to include in the head section of your HTML file that will allow you to use the font directly from their server. \n",
    "\n",
    "  ```css \n",
    "<link rel=\"stylesheet\" href=\"https://fonts.googleapis.com/css?family=Roboto\">```\n",
    "\n",
    "3. **Use the font in your CSS**: After including the font in your HTML file, you can use it in your CSS by specifying the font family, and providing a fallback font family in case the font isn't available/loaded. E.g. `font-family: 'Roboto', sans-serif;`\n",
    "\n"
   ]
  },
  {
   "cell_type": "markdown",
   "metadata": {},
   "source": [
    "### Heading and Body Fonts\n",
    "\n",
    "It's common practice to use one font family for headings and a different font family for body text. Let's use the font [Inter](https://fonts.google.com/specimen/Inter) for headings and [Roboto](https://fonts.google.com/specimen/Roboto) for text within our web page.\n",
    "\n",
    "We'll need to add the following link tags in `head`:\n",
    "\n",
    "```html\n",
    "<link \n",
    "  href=\"https://fonts.googleapis.com/css2?family=Inter:wght@400;700&family=Roboto:wght@400;500;700&display=swap\" \n",
    "  rel=\"stylesheet\">\n",
    "```\n",
    "\n",
    "Additionally, we'll need these CSS styles to use the fonts:\n",
    "\n",
    "```css\n",
    "body {\n",
    "  margin: 0;\n",
    "  padding: 0;\n",
    "  font-family: 'Roboto', sans-serif;\n",
    "}\n",
    "\n",
    "h1, h2, h3, h4, h5, h6 {\n",
    "  font-family: Inter;\n",
    "}\n",
    "\n",
    "```\n",
    "\n",
    "While there are thousands of fonts available on the internet, you should try to pick simple and legible fonts for a good user experience."
   ]
  },
  {
   "cell_type": "markdown",
   "metadata": {},
   "source": [
    "> **EXERCISE**: Check out this link to explore some other font pairs and apply them on the page: https://www.creativebloq.com/typography/20-perfect-type-pairings-3132120 ."
   ]
  },
  {
   "cell_type": "markdown",
   "metadata": {},
   "source": [
    "### Common Text Styles"
   ]
  },
  {
   "cell_type": "markdown",
   "metadata": {},
   "source": [
    "Here are some of the most commonly used text styling properties in CSS:\n",
    "\n",
    "* `font-family`: This property sets the font family for the selected text. It specifies the name of one or more font families to use for the text. E.g. `font-family: Arial, sans-serif;`. CSS provides several in-built fonts: https://www.w3schools.com/cssref/css_websafe_fonts.php\n",
    "\n",
    "\n",
    "* `font-size`: This property sets the font size for the selected text. It specifies the size of the font in pixels, ems, or other units. E.g. `font-size: 36px;`\n",
    "\n",
    "\n",
    "* `font-weight`: This property sets the weight (boldness) of the selected text. It specifies the weight of the font as a number or a keyword. E.g. `font-weight: bold;`\n",
    "\n",
    "\n",
    "* `text-align`: This property sets the horizontal alignment of the selected text. It specifies the alignment of the text as left, right, center, or justified. E.g. `text-align: center;`\n",
    "\n",
    "\n",
    "\n",
    "* `line-height`: This property sets the height of each line of text. It specifies the height of the line as a number or a percentage of the font size. E.g. `line-height: 1.5;`\n",
    "\n",
    "\n",
    "* `font-style`: This property sets the style of the font for the selected text. It specifies whether the font should be italic, oblique, or normal (default). E.g. `font-style: italic;`\n",
    "\n",
    "\n",
    "* `text-transform`: This property sets the capitalization of the selected text. It specifies whether the text should be transformed to uppercase, lowercase, or capitalize (first letter of each word capitalized). E.g. `text-transform: uppercase;`\n",
    "\n",
    "\n",
    "* `text-decoration`: This property sets the decoration of the selected text. It specifies whether the text should be underlined, overlined, line-through, or none (default). E.g. `text-decoration: underline;`\n",
    "\n"
   ]
  },
  {
   "cell_type": "markdown",
   "metadata": {},
   "source": [
    "> **EXERCISE**: Create a new web page with some text on it, look up the available values for each of the above properties, and apply them to the text on your web page to understand their effect. Learn more here: https://developer.mozilla.org/en-US/docs/Learn/CSS/Styling_text/Fundamentals"
   ]
  },
  {
   "cell_type": "markdown",
   "metadata": {},
   "source": [
    "### Understanding Sizes in CSS\n",
    "\n",
    "<img src=\"https://i.imgur.com/QRiYxOr.png\" width=\"480px\">\n"
   ]
  },
  {
   "cell_type": "markdown",
   "metadata": {},
   "source": [
    "CSS offers several ways to set the size of an element, including using fixed and relative values, as well as units of measurement.\n",
    "\n",
    "1. **Pixels**: Use a fixed value, such as pixels (px), to set a specific size for an element. For example: `width: 200px;`\n",
    "\n",
    "\n",
    "2. **Percentages**: Use a relative value, such as percentages (%), to set a size relative to the size of the parent element. E.g. `width: 50%;`\n",
    "\n",
    "\n",
    "3. **`em` and `rem`**: \"em\" and \"rem\" are both units of measurement that are used to size elements based on the font size of a parent or root element, respectively.\n",
    "\n",
    "    - \"em\" units are relative to the font size of the parent element. One \"em\" is equal to the font size of the parent element.\n",
    "    \n",
    "    - \"rem\" units are relative to the font size of the root element. One \"rem\" is equal to the font size of the root element.\n",
    "    \n",
    "4. **Other units of measurement**: There are many other less commonly used units of measurement such as inches (in), centimeters (cm), millimeters (mm), points (pt), and picas (pc).\n",
    "\n",
    "5. **Viewport-based sizes**: Left as an exercise. See https://www.sitepoint.com/css-viewport-units-quick-start/\n",
    "\n",
    "\n"
   ]
  },
  {
   "cell_type": "markdown",
   "metadata": {},
   "source": [
    "> **EXERCISE**: Learn more about CSS units and measurement on [this MDN article](https://developer.mozilla.org/en-US/docs/Learn/CSS/Building_blocks/Values_and_units#numbers_lengths_and_percentages). Create a new web page with some divs and text and apply various sizes to them in different ways."
   ]
  },
  {
   "cell_type": "markdown",
   "metadata": {},
   "source": [
    "### Text Size & Style Guidelines\n",
    "\n",
    "\n",
    "<img src=\"https://i.imgur.com/mOD3qga.png\" width=\"360\">\n",
    "\n",
    "When designing your website or application, it's essential to consider appropriate text sizes for optimal readability and usability. Here are some guidelines to keep in mind:\n",
    "\n",
    "- For body text, `16px` is a commonly used font size that ensures comfortable reading.\n",
    "\n",
    "\n",
    "- Smaller text can be set to `0.875 rem` (`14px`) for optimal legibility.\n",
    "\n",
    "\n",
    "- Larger text should be set to `1.25 rem` (`20px`) to emphasize important content.\n",
    "\n",
    "\n",
    "- When using header tags, consider the following recommended font sizes: \n",
    "  - H1 - `2.5 rem` (`40px`)\n",
    "  - H2 - `2 rem` (`32px`)\n",
    "  - H3 - `1.75 rem` (`28px`)\n",
    "  - H4 - `1.5 rem` (`24px`) \n",
    "  - H5 - `1.25 rem` (`20px`)\n",
    "  - H6 - `1 rem` (`16px`)\n",
    "  \n",
    "  \n",
    "These font sizes create a clear hierarchy, guiding users through the content with ease. These sizes are chosen from the typography guidelines in the [Bootstrap CSS framework](https://getbootstrap.com/docs/4.0/content/typography/), which we'll use in a later tutorial."
   ]
  },
  {
   "cell_type": "markdown",
   "metadata": {},
   "source": [
    "Let's apply these CSS styles to use the above text sizes in our web page:\n",
    "\n",
    "```css\n",
    "body {\n",
    "  margin: 0;\n",
    "  padding: 0;\n",
    "  font-family: 'Roboto', sans-serif;\n",
    "  font-size: 16px;\n",
    "}\n",
    "\n",
    "h1, h2, h3, h4, h5, h6 {\n",
    "  font-family: Inter;\n",
    "  font-weight: 500;\n",
    "}\n",
    "\n",
    "h1 { font-size: 2.5rem; }\n",
    "h2 { font-size: 2rem; }\n",
    "h3 { font-size: 1.75rem; }\n",
    "h4 { font-size: 1.5rem; }\n",
    "h5 { font-size: 1.25rem; }\n",
    "h6 { font-size: 1rem; }\n",
    "\n",
    "#description {\n",
    "  width: 50%;\n",
    "  padding-right: 8px;\n",
    "  font-size: 1.25rem;\n",
    "}\n",
    "\n",
    "```\n",
    "\n",
    "\n",
    "Note that all text sizes except the base text size in the `body` tag is expressed in `rem`s. "
   ]
  },
  {
   "cell_type": "markdown",
   "metadata": {},
   "source": [
    "\n",
    "> **EXERCISE**: Change the base text size in the `body` tag and observe how the size of all the text on the page changes proportionally."
   ]
  },
  {
   "cell_type": "markdown",
   "metadata": {},
   "source": [
    "## Colors in CSS\n",
    "\n",
    "<img src=\"https://i.imgur.com/SSvsMxE.png\" width=\"360\">"
   ]
  },
  {
   "cell_type": "markdown",
   "metadata": {},
   "source": [
    "Colors play a crucial role in web design, and CSS provides various ways to define and manipulate them. In this tutorial, we will explore different methods of creating colors in CSS and some guidelines for choosing good colors.\n",
    "\n",
    "\n",
    "Let's look at the different ways of defining colors in CSS.\n",
    "\n"
   ]
  },
  {
   "cell_type": "markdown",
   "metadata": {},
   "source": [
    "### Inbuilt Color Names\n",
    "\n",
    "CSS provides 140 pre-defined color names that can be used directly. For example, to set the color of a paragraph to red, you can use the following code:\n",
    "\n",
    "```css\n",
    "p {\n",
    "  color: red;\n",
    "}\n",
    "```\n",
    "\n",
    "You can find the list of named colors in CSS here: https://www.w3.org/wiki/CSS/Properties/color/keywords"
   ]
  },
  {
   "cell_type": "markdown",
   "metadata": {},
   "source": [
    "### RGB Colors\n",
    "\n",
    "\n",
    "\n",
    "\n",
    "RGB stands for red, green, and blue, which are the primary colors of light. In CSS, RGB colors can be defined using the `rgb()` function, which takes three values between 0 and 255 representing the intensity of each color channel. \n",
    "\n",
    "\n",
    "For example, to set the background color of a page to a shade of purple, you can use the following code:\n",
    "\n",
    "\n",
    "```css\n",
    "body {\n",
    "  background-color: rgb(128, 0, 128);\n",
    "}\n",
    "```\n",
    "\n",
    "You can experiment with RGB colors using the Google color picker: https://g.co/kgs/szbFJZ \n",
    "\n",
    "\n",
    "<img src=\"https://i.imgur.com/nh6tUED.png\" width=\"640\">"
   ]
  },
  {
   "cell_type": "markdown",
   "metadata": {},
   "source": [
    "### Hexadecimal Color Codes\n",
    "\n",
    "<img src=\"https://i.imgur.com/R275u9x.png\" width=\"320\">\n",
    "\n",
    "Hexadecimal colors are represented using a six-digit code that begins with a hash symbol (#). Each pair of digits represents the intensity of the red, green, and blue color channels, respectively. For example, to set the text color of a button to a light blue, you can use the following code:\n",
    "\n",
    "```css\n",
    "button {\n",
    "  color: #ADD8E6;\n",
    "}\n",
    "\n",
    "```\n",
    "\n",
    "The Google color picker can also be used to convert RGB colors to hexadecimal and vice versa: https://g.co/kgs/szbFJZ\n",
    "\n",
    "Learn more about the hexadecimal number system here: https://www.techtarget.com/whatis/definition/hexadecimal"
   ]
  },
  {
   "cell_type": "markdown",
   "metadata": {},
   "source": [
    "### RGBA Colors with Transparency\n",
    "\n",
    "RGBA is similar to RGB, but with an additional alpha channel that represents opacity. Opacity is a measure of how transparent an element is, and it ranges from 0 (fully transparent) to 1 (fully opaque). In CSS, RGBA colors can be defined using the `rgba()` function, which takes four values: red, green, blue, and alpha. For example, to set the background color of a div to a semi-transparent red, you can use the following code:\n",
    "\n",
    "```css\n",
    "div {\n",
    "  background-color: rgba(255, 0, 0, 0.5);\n",
    "}\n",
    "```\n",
    "\n",
    "RGBA colors can also be represented in hexadecmial format by adding two more characters to the hex notation."
   ]
  },
  {
   "cell_type": "markdown",
   "metadata": {},
   "source": [
    "### CSS Color Properties\n",
    "\n",
    "Here are some of the CSS properties that use color values:\n",
    "\n",
    "- `color`: sets the color of text\n",
    "- `background-color`: sets the background color of an element\n",
    "- `border-color`: sets the color of an element's border\n",
    "- `box-shadow`: sets the color of an element's shadow\n",
    "- `text-shadow`: sets the color of text shadow"
   ]
  },
  {
   "cell_type": "markdown",
   "metadata": {},
   "source": [
    "> **EXERCISE**: Learn more and experiment with CSS colors here: https://www.w3schools.com/css/css3_colors.asp"
   ]
  },
  {
   "cell_type": "markdown",
   "metadata": {},
   "source": [
    "### Picking Good Colors\n",
    "\n",
    "<img src=\"https://i.imgur.com/TqZ1OhZ.png\" width=\"640\">\n",
    "\n",
    "Follow these guidelines for picking good colors: \n",
    "\n",
    "\n",
    "- **Use color palettes**: Use color palettes to ensure consistency throughout your design. A color palette is a set of colors that work well together and can be used throughout your design. In general, a few shades of one primary color and one secondary color should do the job. \n",
    "\n",
    "\n",
    "- **Contrast**: Ensure that the text is legible by choosing a color with high contrast against the background. Generally, light text on a dark background or vice versa works well.\n",
    "\n",
    "\n",
    "- **Simplicity**: Avoid using too many colors, and keep the design simple. Too many colors can be overwhelming and detract from the overall design.\n",
    "\n",
    "\n",
    "- **Accessibility**: Ensure that your color choices are accessible to everyone, including those with color vision deficiencies. You can use tools like Color Contrast Checker to check if your colors meet the accessibility guidelines.\n",
    "\n",
    "\n",
    "**NOTE**: Most companies have design system which with predefined colors for various parts of the application and guidelines/examples for their usage. For now, you can this predefined color palette to pick good colors: https://tailwindcolor.com/"
   ]
  },
  {
   "cell_type": "markdown",
   "metadata": {},
   "source": [
    "> **EXERCISE**: Browse through the examples listed on these 2 sites:\n",
    "> - Bad color schemes: https://designwebkit.com/web-and-trends/color-combinations-hell-death-sentence-designs/ . \n",
    "> - Good color schemes: https://zyro.com/blog/best-modern-website-color-schemes/"
   ]
  },
  {
   "cell_type": "markdown",
   "metadata": {},
   "source": [
    "### Text Color Guidelines\n",
    "\n",
    "Use these guidlines for text colors:\n",
    "\n",
    "\n",
    "1. **Headings**: 90% black (`#222222`)\n",
    "\n",
    "2. **Body text**: 75% black (`#444444`)\n",
    "\n",
    "3. **Secondary text**: 60% black (`#666666`)\n",
    "\n",
    "4. **Disabled text**: 40% black (`#999999`)\n",
    "\n",
    "\n",
    "You may need to adjust these if the text is on a non-white background.\n",
    "\n",
    "Let's improve the colors on our web page using the above text colors and background colors picked from https://tailwindcolor.com/. \n",
    "\n"
   ]
  },
  {
   "cell_type": "markdown",
   "metadata": {},
   "source": [
    "\n",
    "We'll apply these CSS properties:\n",
    "\n",
    "\n",
    "\n",
    "```css\n",
    "body {\n",
    "  margin: 0;\n",
    "  padding: 0;\n",
    "  font-family: 'Roboto', sans-serif;\n",
    "  font-size: 16px;\n",
    "  color: #444444;\n",
    "}\n",
    "\n",
    "h1, h2, h3, h4, h5, h6 {\n",
    "  font-family: Inter;\n",
    "  font-weight: 500;\n",
    "  color: #222222;\n",
    "}\n",
    "\n",
    "#jobs-table th {\n",
    "  border: 1px solid grey;\n",
    "  padding: 8px;\n",
    "  text-align: center;\n",
    "  background-color: #BFDBFE;\n",
    "  font-weight: 500;\n",
    "  color: #222222;\n",
    "}\n",
    "\n",
    "#jobs-table tr:nth-child(odd) {\n",
    "  background-color: #EFF6FF;\n",
    "}\n",
    "\n",
    "#footer {\n",
    "  background-color: #FAFAFA;\n",
    "  padding: 8px;\n",
    "  margin-top: 32px;\n",
    "  text-align: center;\n",
    "}\n",
    "\n",
    "\n",
    "\n",
    "```"
   ]
  },
  {
   "cell_type": "markdown",
   "metadata": {},
   "source": [
    "## Forms in HTML\n",
    "\n",
    "<img src=\"https://i.imgur.com/A66cOeb.png\" width=\"360px\">"
   ]
  },
  {
   "cell_type": "markdown",
   "metadata": {},
   "source": [
    "### `form` and Input Tags\n",
    "\n"
   ]
  },
  {
   "cell_type": "markdown",
   "metadata": {},
   "source": [
    "HTML forms are an essential part of creating dynamic web pages. They allow users to input and submit data to the web server, which can then be processed and stored. \n",
    "\n",
    "\n",
    "- Use the `<form>` tag to start a form and the `</form>` tag to end it.\n",
    "\n",
    "\n",
    "- Use the `<input>`, `<select>` and `<textarea>` tag to create form fields for the user to input data. There are various types of input fields, such as text, password, email, radio buttons, checkboxes, dropdowns and more.\n",
    "\n",
    "\n",
    "- Use the `<label>` tag to create a label for each input field to provide more context and improve accessibility.\n",
    "\n",
    "\n",
    "- Add a button at the end to trigger form submission and set the `action` and `method` attributes to configure where the results are sent (more on this later).\n",
    "\n",
    "\n"
   ]
  },
  {
   "cell_type": "markdown",
   "metadata": {},
   "source": [
    "Here's an example form:\n",
    "\n",
    "```html\n",
    "<form action=\"process-form.php\" method=\"post\">\n",
    "  <div>\n",
    "    <label for=\"name\">Name</label>\n",
    "    <input type=\"text\" id=\"name\" name=\"name\" required>\n",
    "  </div>\n",
    "  \n",
    "  <div>\n",
    "    <label for=\"email\">Email</label>\n",
    "    <input type=\"email\" id=\"email\" name=\"email\" required>\n",
    "  </div>\n",
    "  \n",
    "  <div>\n",
    "    <label for=\"message\">Message</label>\n",
    "    <textarea id=\"message\" name=\"message\" rows=\"5\" required></textarea>\n",
    "  </div>\n",
    "  \n",
    "  <div>\n",
    "    <input type=\"submit\" value=\"Submit\">\n",
    "  </div>\n",
    "</form>\n",
    "\n",
    "\n",
    "```\n",
    "\n",
    "The input fields have various attributes, such as \"type\" to specify the type of input, \"id\" for unique identification, \"name\" for server-side processing, and \"required\" to indicate that the field is mandatory. "
   ]
  },
  {
   "cell_type": "markdown",
   "metadata": {},
   "source": [
    "### HTML Form Input Types"
   ]
  },
  {
   "cell_type": "markdown",
   "metadata": {},
   "source": [
    "\n",
    "Here are the different types of inputs in HTML, most of which are created using the `input` tag:\n",
    "\n",
    "1.  **Text Input**: It allows users to enter text, such as name, address, email, etc. The `type` attribute for text input is text.\n",
    "\n",
    "\n",
    "2.  **Checkbox Input**: It is used to select one or more options from a list of options. The `type` attribute for checkbox input is `checkbox`.\n",
    "\n",
    "\n",
    "3.  **Radio Input**: It is used to select only one option from a list of options. The `type` attribute for radio input is `radio`. Radio buttons are grouped using the name attribute.\n",
    "\n",
    "\n",
    "4. **Dropdown**: It is used to create a dropdown list of options. Dropdowns are created using the `select` and `options` tags.\n",
    "\n",
    "\n",
    "5. **Textarea**: It allows users to input a larger amount of text, such as comments or messages. Text areas are created using the `textarea` tag.\n",
    "\n",
    "\n",
    "6.  **Date Input**: It is used to input date values, such as birthdays, deadlines, etc. The type attribute for date input is date.\n",
    "\n",
    "\n",
    "7. **Password Input**: It is similar to the text input, but it masks the entered text with asterisks or dots for privacy and security purposes. The `type` attribute for password input is `password`.\n",
    "\n",
    "\n",
    "8.  **Email Input**: It is used to input an email address, which can be validated using HTML5. The `type` attribute for email input is `email`.\n",
    "\n",
    "\n",
    "9. **Number Input**: It is used to input numerical values and has additional attributes such as `min`, `max`, and `step`. The `type` attribute for number input is `number`.\n",
    "\n",
    "\n",
    "There are several other less commonly used input types that you can learn about here: https://developer.mozilla.org/en-US/docs/Web/HTML/Element/input"
   ]
  },
  {
   "cell_type": "markdown",
   "metadata": {},
   "source": []
  },
  {
   "cell_type": "markdown",
   "metadata": {},
   "source": [
    "Here's a form demonstrating usage of the above input types:\n",
    "\n",
    "\n",
    "```html\n",
    "\n",
    "<div id=\"application\">\n",
    "    <h2>Submit Your Application</h2>\n",
    "\n",
    "    <form id=\"application-form\">\n",
    "        <div class=\"form-group\">\n",
    "            <label for=\"name\">Name</label><br>\n",
    "            <input type=\"text\" id=\"name\" name=\"name\" required placeholder=\"John Doe\">\n",
    "        </div>\n",
    "\n",
    "        <div class=\"form-group\">\n",
    "            <label for=\"email\">Email</label><br>\n",
    "            <input type=\"email\" id=\"email\" name=\"email\" required placeholder=\"jdoe@example.com\">\n",
    "        </div>\n",
    "        <div class=\"form-group\">\n",
    "\n",
    "            <label for=\"phone\">Phone</label><br>\n",
    "            <input type=\"tel\" id=\"phone\" name=\"phone\" required placeholder=\"+919898989898\">\n",
    "        </div>\n",
    "\n",
    "        <div class=\"form-group\">\n",
    "            <label for=\"dob\">Date of Birth</label><br>\n",
    "            <input type=\"date\" id=\"dob\" name=\"dob\" required>\n",
    "        </div>\n",
    "\n",
    "        <div class=\"form-group\">\n",
    "            <label for=\"position\">Position Applied for</label><br>\n",
    "            <select id=\"position\" name=\"position\" required>\n",
    "                <option value=\"\">Select an option</option>\n",
    "                <option value=\"Frontend Developer\">Frontend Developer</option>\n",
    "                <option value=\"Full Stack Developer\">Full Stack Developer</option>\n",
    "                <option value=\"Data Scientist\">Data Scientist</option>\n",
    "                <option value=\"ML Engineer\">ML Engineer</option>\n",
    "            </select>\n",
    "        </div>\n",
    "\n",
    "        <div class=\"form-group\">\n",
    "            <label for=\"resume\">Upload Resume</label><br>\n",
    "            <input type=\"file\" id=\"resume\" name=\"resume\" accept=\".pdf,.doc,.docx\" required>\n",
    "        </div>\n",
    "\n",
    "        <div class=\"form-group\">\n",
    "            <label for=\"coverletter\">Cover Letter</label><br>\n",
    "            <textarea id=\"coverletter\" name=\"coverletter\" rows=\"5\" required placeholder=\"Explain what makes you suitable for the job..\"></textarea>\n",
    "        </div>\n",
    "\n",
    "        <div class=\"form-group\">\n",
    "            <label for=\"terms\">\n",
    "                <input type=\"checkbox\" id=\"terms\" name=\"terms\" required>\n",
    "                I agree to the terms and conditions\n",
    "            </label>\n",
    "        </div>\n",
    "\n",
    "        <div class=\"form-group\">\n",
    "            <input type=\"submit\" value=\"Submit\">\n",
    "        </div>\n",
    "    </form>\n",
    "\n",
    "\n",
    "</div>\n",
    "```\n",
    "\n",
    "      \n",
    "      "
   ]
  },
  {
   "cell_type": "markdown",
   "metadata": {},
   "source": [
    "> **EXECISE**: Learn more about form input types here:\n",
    "> \n",
    "> - `input` tag reference: https://developer.mozilla.org/en-US/docs/Web/HTML/Element/input\n",
    "> - `textarea` tag reference: https://developer.mozilla.org/en-US/docs/Web/HTML/Element/textarea\n",
    "> - `select` and `option` tags reference: https://developer.mozilla.org/en-US/docs/Web/HTML/Element/select\n"
   ]
  },
  {
   "cell_type": "markdown",
   "metadata": {},
   "source": [
    "### Styling the Form\n",
    "\n",
    "We can style the above form using the following CSS properties:\n",
    "\n",
    "```css\n",
    "\n",
    "#application {\n",
    "  max-width: 800px;\n",
    "  margin: 0 auto;\n",
    "  padding: 0 8px;\n",
    "}\n",
    "\n",
    ".form-group {\n",
    "  margin: 16px 0;\n",
    "}\n",
    "\n",
    ".form-group input, textarea, select{\n",
    " font-size:1.25rem;\n",
    " border-radius: 4px;\n",
    " border: 1px solid gray;\n",
    " margin-top: 4px;\n",
    " padding: 8px;\n",
    " min-width: 360px;\n",
    "}\n",
    "\n",
    ".form-group textarea{\n",
    "  width: 100%;\n",
    "  font-family: 'Roboto', sans-serif;\n",
    "}\n",
    "\n",
    ".form-group input[type=\"checkbox\"] {\n",
    "  width: 16px;\n",
    "  height: 16px;\n",
    "  min-width: 0;\n",
    "}\n",
    "\n",
    "#application-form label {\n",
    "  font-weight: bold;\n",
    "}\n",
    "\n",
    "#application-form input[type=\"submit\"] {\n",
    "  background-color: #2563EB;\n",
    "  width: 120px;\n",
    "  min-width: 0;\n",
    "  padding: 16px;\n",
    "  color: #fff;\n",
    "  font-weight: bold;\n",
    "  font-size: 1.25rem;\n",
    "}\n",
    "```"
   ]
  },
  {
   "cell_type": "markdown",
   "metadata": {},
   "source": [
    "Here's what the form looks like now: \n",
    "\n",
    "<img src=\"https://i.imgur.com/UXrWioc.png\" width=\"420\">"
   ]
  },
  {
   "cell_type": "markdown",
   "metadata": {},
   "source": [
    "### Form Action and Submission\n",
    "\n",
    "Form submission is an important aspect of HTML forms. It involves sending the form data to a server for processing\n",
    "\n",
    "\n",
    "- The `action` attribute specifies the URL of the server-side script or service that will process the form data. This URL can be an absolute or relative URL.\n",
    "\n",
    "\n",
    "- The `method` attribute specifies the HTTP method used to submit the form data. The most common methods are `GET` and `POST`. `GET` submits the form data as URL parameters, while `POST` submits the form data in the HTTP request body.\n",
    "\n",
    "\n",
    "- The `target` attribute specifies the location where the server response should be displayed. The most common values for this attribute are `_self` (default) and `_blank`. `_self` opens the response in the same window, while `_blank` opens the response in a new window.\n",
    "\n",
    "\n",
    "In addition to these attributes, the `submit` input `type` is used to show a button to submit the form data. When a user clicks on a `submit` button, the form data is sent to the server for processing."
   ]
  },
  {
   "cell_type": "markdown",
   "metadata": {},
   "source": [
    "For static websites that don't have a server-side component, you can use third-party form submission services like [Formbold](https://formbold.com/) to capture and receive form data via email. In a later tutorial, we will learn to create our own web server to capture form responses."
   ]
  },
  {
   "cell_type": "markdown",
   "metadata": {},
   "source": [
    "### Sending Form Responses Over Email\n",
    "\n",
    "We can use the platform https://formbold.com to sent form response over email:\n",
    "\n",
    "\n",
    "\n",
    "1. Sign up on formbold.com\n",
    "\n",
    "2. Create a new form\n",
    "\n",
    "3. Open the form settings \n",
    "\n",
    "4. From the integration tag, copy the form URL \n",
    "\n",
    "5. Add the form URL with a POST action in your form\n",
    "\n",
    "5. Follow the usage guidelines for \"Form with file upload\" to set other tags appropriately\n",
    "\n",
    "6. Reload your web page, make a sample submission, and verify that the response was recroded\n",
    "\n"
   ]
  },
  {
   "cell_type": "markdown",
   "metadata": {},
   "source": [
    "We just need to add the following into our form's HTML code:\n",
    "\n",
    "\n",
    "```html\n",
    "<form \n",
    "      id=\"application-form\" \n",
    "      action=\"https://formbold.com/s/oaPqM\" \n",
    "      method=\"POST\" \n",
    "      enctype=\"multipart/form-data\" >\n",
    "        \n",
    "```"
   ]
  },
  {
   "cell_type": "markdown",
   "metadata": {},
   "source": [
    "The response should now be visible on FormBold."
   ]
  },
  {
   "cell_type": "markdown",
   "metadata": {},
   "source": [
    "## HTML Meta Tags"
   ]
  },
  {
   "cell_type": "markdown",
   "metadata": {},
   "source": [
    "HTML meta tags provide information about a web page to search engines and browsers. They are placed in the <head> section of an HTML document and are not displayed on the page itself.\n",
    "    \n",
    "\n",
    "<img src=\"https://i.imgur.com/zdD8YhA.png\" width=\"480\">\n",
    "    \n",
    "    \n",
    "<img src=\"https://i.imgur.com/D9RZEuc.png\" width=\"480\">\n",
    "    "
   ]
  },
  {
   "cell_type": "markdown",
   "metadata": {},
   "source": [
    "### Common Meta Tags"
   ]
  },
  {
   "cell_type": "markdown",
   "metadata": {},
   "source": [
    "There are several types of meta tags, each with its own purpose. Here are some common meta tags:\n",
    "\n",
    "\n",
    "- `meta charset`: This tag specifies the character encoding used in the document, which affects how text is displayed. The recommended value is UTF-8.\n",
    "\n",
    "\n",
    "- `meta name=\"viewport\"`: This tag specifies the viewport properties for responsive design. It includes attributes such as width, initial-scale, and minimum-scale.\n",
    "\n",
    "\n",
    "- `meta name=\"description\"`: This tag provides a brief summary of the page content and is used by search engines when displaying search results.\n",
    "\n",
    "\n",
    "- `meta name=\"keywords\"`: This tag specifies keywords related to the page content and was used in the past by search engines for indexing, but is now less important.\n",
    "\n",
    "\n",
    "- `meta name=\"author\"`: This tag specifies the author of the page.\n",
    "\n",
    "\n",
    "- `meta name=\"robots\"`: This tag specifies instructions for web crawlers, such as whether to index or follow links on the page."
   ]
  },
  {
   "cell_type": "markdown",
   "metadata": {},
   "source": [
    "### Platform-Specific Meta Tags\n",
    "\n",
    "There are also platform-specific tags for social media sites such as Facebook and Twitter. These tags are used to provide more information about the page when it is shared on these platforms. Here are some examples:\n",
    "\n",
    "\n",
    "- `meta property=\"og:title\"`: This tag specifies the title of the page when it is shared on Facebook and several other sites.\n",
    "\n",
    "\n",
    "- `meta property=\"og:description\"`: This tag specifies the description of the page when it is shared on Facebook and several other sites.\n",
    "\n",
    "\n",
    "- `meta property=\"og:image\"`: This tag is used to specify the image that should be displayed when a page is shared on social media platforms, such as Facebook or Twitter.\n",
    "\n",
    "\n",
    "- `meta name=\"twitter:title\"`: This tag specifies the title of the page when it is shared on Twitter.\n",
    "\n",
    "\n",
    "- `meta name=\"twitter:description\"`: This tag specifies the description of the page when it is shared on Twitter.\n",
    "\n",
    "\n",
    "- `meta name=\"twitter:card\"`: This is used to display the preview of the web page as a card on Twitter."
   ]
  },
  {
   "cell_type": "markdown",
   "metadata": {},
   "source": [
    "### Title and Favicon\n",
    "\n",
    "The `title` tag and favicon `link` tag are also related to meta tags. \n",
    "\n",
    "- The `title` tag specifies the title of the page, which appears in the browser's title bar and is also used by search engines. \n",
    "\n",
    "\n",
    "- The favicon `link` tag specifies the icon that appears in the browser's address bar and bookmark menu."
   ]
  },
  {
   "cell_type": "markdown",
   "metadata": {},
   "source": [
    "Let's add proper meta tags to our web page: \n",
    "\n",
    "\n",
    "```html\n",
    "\n",
    "<head>\n",
    "    <meta charset=\"UTF-8\">\n",
    "    <meta name=\"viewport\" content=\"width=device-width, initial-scale=1.0\">\n",
    "    <meta name=\"description\" content=\"Learn about job openings at Jovian and submit your application now\">\n",
    "    <meta name=\"keywords\" content=\"data science, software development, jobs\">\n",
    "    <meta name=\"author\" content=\"Jovian\">\n",
    "    <meta name=\"robots\" content=\"index, follow\">\n",
    "    <meta property=\"og:title\" content=\"Jovian Careers\">\n",
    "    <meta property=\"og:description\" content=\"Learn about job openings at Jovian and submit your application now\">\n",
    "    <meta property=\"og:image\" content=\"/jovian_meta.png\">\n",
    "    <meta name=\"twitter:title\" content=\"Jovian Careers\">\n",
    "    <meta name=\"twitter:description\" content=\"Learn about job openings at Jovian and submit your application now\">\n",
    "    <meta name=\"twitter:image\" content=\"/jovian_meta.png\">\n",
    "    <title>Jovian Careers</title>\n",
    "    <link rel=\"icon\" href=\"/jovian_favicon.png\" type=\"image/x-icon\">\n",
    "\n",
    "\n",
    "```\n",
    "\n",
    "\n",
    "Use this image as the favicon: https://i.imgur.com/GMMpgdl.png\n",
    "\n",
    "\n",
    "Use this image as the meta image: https://i.imgur.com/KBD7w8k.png\n",
    "\n",
    "\n",
    "Learn more about HTML meta tags here: https://developer.mozilla.org/en-US/docs/Web/HTML/Element/meta/name\n"
   ]
  },
  {
   "cell_type": "markdown",
   "metadata": {},
   "source": [
    "## Deploying to the Cloud"
   ]
  },
  {
   "cell_type": "markdown",
   "metadata": {},
   "source": [
    "\n",
    "\n",
    "While there are many ways to deploy a website to the cloud, we'll use a really simple platform called [static.app](https://static.app).\n",
    "\n",
    "Here's how it works:\n",
    "\n",
    "1. Make sure you have a file `index.html` in your project folder\n",
    "1. Create a ZIP archive using your project folder\n",
    "2. Visit https://static.app and upload the ZIP file\n",
    "3. Create an account by providing email, name and password\n",
    "4. Verify your account using the link sent over email\n",
    "4. The website will be deployed as a subdomain of `static.app`\n",
    "\n",
    "That's it, your website is live! You can now share the link with your friends & colleagues and the link previews should show up properly. You also now verify that link previews show up properly using the tool https://metatags.io .\n",
    "\n",
    "You can connect your website to custom domain by upgrading to a paid plan."
   ]
  },
  {
   "cell_type": "markdown",
   "metadata": {},
   "source": [
    "## Summary and References"
   ]
  },
  {
   "cell_type": "markdown",
   "metadata": {},
   "source": [
    "The following topics were covered in this tutorial:\n",
    "\n",
    "- Iteratively improving an existing web page by adding/modifying sections\n",
    "- Creating and styling HTML tables to display tabular data on a web page\n",
    "- Understanding various text-related CSS properties and how they are used\n",
    "- Understanding CSS colors and picking appropriate colors for clarity and aesthetic appeal\n",
    "- Creating HTML form to collect user inpute and exploring various HTML input types\n",
    "- Collecting and viewing form responses using an external server\n",
    "- Using meta tags to improve how a page previews when shared as a link\n",
    "\n",
    "Make sure to type out all the code yourself and solve all the exercises to get a better understanding of each topic."
   ]
  },
  {
   "cell_type": "markdown",
   "metadata": {},
   "source": [
    "Check out these resources to learn more:\n",
    "\n",
    "\n",
    "- Beginner-friendly HTML & CSS tutorials\n",
    "  - HTML - https://htmldog.com/guides/html/\n",
    "  - CSS - https://htmldog.com/guides/css/ \n",
    "- Interactive HTML tutorials: https://www.w3schools.com/html/html_basic.asp \n",
    "- HTML elements reference: https://developer.mozilla.org/en-US/docs/Web/HTML/Element \n",
    "- MDN tutorials (more detailed & comprehensive)\n",
    "- HTML - https://developer.mozilla.org/en-US/docs/Learn/HTML\n",
    "- CSS - https://developer.mozilla.org/en-US/docs/Learn/CSS\n",
    "- Web Development with Python (similar site): https://www.youtube.com/watch?v=yBDHkveJUf4 \n",
    "- Advanced tables: https://developer.mozilla.org/en-US/docs/Learn/HTML/Tables/Advanced \n",
    "- HTML form input types: https://developer.mozilla.org/en-US/docs/Web/HTML/Element/input \n",
    "- Semantic HTML tags and why they're important: https://www.w3schools.com/html/html5_semantic_elements.asp\n",
    "- CSS measurement: https://developer.mozilla.org/en-US/docs/Learn/CSS/Building_blocks/Values_and_units#numbers_lengths_and_percentages \n",
    "- We'll use formbold for collecting results: https://formbold.com/ \n",
    "- Meta tags: https://metatags.io/\n",
    "- Example table of jobs: https://stripe.com/jobs/search\n",
    "- Full list of CSS properties: https://www.tutorialrepublic.com/css-reference/css3-properties.php \n",
    "- Balancing line length: https://www.smashingmagazine.com/2014/09/balancing-line-length-font-size-responsive-web-design/ \n",
    "- Different text sizing options: https://careerkarma.com/blog/css-font-size/ \n",
    "https://www.learnui.design/blog/mobile-desktop-website-font-size-guidelines.html \n",
    "- Color scheme generator: https://coolors.co/ \n",
    "- Type design guide: https://m2.material.io/design/typography/the-type-system.html#type-scale \n",
    "- Color palletes: https://m2.material.io/design/color/the-color-system.html#tools-for-picking-colors \n",
    "- AAA design: https://www.w3.org/TR/UNDERSTANDING-WCAG20/visual-audio-contrast-contrast.html "
   ]
  }
 ],
 "metadata": {
  "kernelspec": {
   "display_name": "Python 3 (ipykernel)",
   "language": "python",
   "name": "python3"
  },
  "language_info": {
   "codemirror_mode": {
    "name": "ipython",
    "version": 3
   },
   "file_extension": ".py",
   "mimetype": "text/x-python",
   "name": "python",
   "nbconvert_exporter": "python",
   "pygments_lexer": "ipython3",
   "version": "3.9.7"
  }
 },
 "nbformat": 4,
 "nbformat_minor": 2
}
