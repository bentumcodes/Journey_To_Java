{
 "cells": [
  {
   "cell_type": "markdown",
   "metadata": {},
   "source": [
    "# HTML and CSS Basics\n",
    "\n",
    "\n",
    "![](https://i.imgur.com/I20GFz6.png)\n",
    "\n",
    "HTML and CSS form the foundation of modern web design, allowing you to create visually appealing & functional web pages.\n",
    "\n",
    "\n",
    "**HTML (HyperText Markup Language)** is the standard language used to create web pages. It is used to structure content and add elements such as headings, paragraphs, images, links, and more.\n",
    "\n",
    "**CSS (Cascading Style Sheets)** is used to describe the presentation of HTML documents. It allows you to control layout and appearance by defining styles for elements such as fonts, colors, margins, borders, and more.\n",
    "\n"
   ]
  },
  {
   "cell_type": "markdown",
   "metadata": {},
   "source": [
    "The following topics are covered in this tutorial:\n",
    "\n",
    "- Creating an HTML file, adding code into it using VS Code, and viewing it in a browser\n",
    "- Using basic HTML tags (html, head, title, body, div etc.) to create a web page\n",
    "- Using HTML tags (h1 to h6, p, lists, link, images) to structure content on a page\n",
    "- Adding styles using CSS and understanding the CSS box model for layout\n",
    "- Styling HTML tags using CSS and replicating the structure of a desired wireframe\n",
    "\n",
    "- Deploying a website to the cloud using an online hosting service\n",
    "\n",
    "There are no prerequisites for this tutorial. The best way to learn these skills is to follow along step-by-step and type out all the code yourself.\n",
    "\n",
    "You can find the completed code for this tutorial here: https://github.com/JovianHQ/web-development-with-html-and-css/tree/main/lesson-1-html-and-css-basics\n"
   ]
  },
  {
   "cell_type": "markdown",
   "metadata": {},
   "source": [
    "## Problem Statement\n",
    "\n",
    "We'll explore the basics of HTML & CSS by attempting to solve this problem statement:\n",
    "\n",
    "> Create a web page that showcases job listings for Jovian, including the following:\n",
    "> \n",
    "> - A navbar at the top showing the Jovian logo\n",
    "> - A header section displaying a picture and some relevant information\n",
    "> - A list of job openings that include the job designation, location, and salary details\n",
    "> - A footer at the bottom of the web page with important links\n",
    ">\n",
    "> Make the page visually appealing and informative.\n"
   ]
  },
  {
   "cell_type": "markdown",
   "metadata": {},
   "source": [
    "## Your First Web Page\n",
    "\n"
   ]
  },
  {
   "cell_type": "markdown",
   "metadata": {},
   "source": [
    "Creating a web page is quite easy! We simply need to create a file, put some text into it, and open it within a web browser. While you can use any text editor, web developers often use editors that are better suited for programming. These are called code editors or Integrated Development Environments (IDEs). \n",
    "\n",
    "In this tutorial, we will use a code editors called Visual Studio Code. You can download it for free from this website: https://code.visualstudio.com/. Just click on the download button and follow the instructions to install it on your computer. Once it's installed, we can start creating our very first web page!\n"
   ]
  },
  {
   "cell_type": "markdown",
   "metadata": {},
   "source": [
    "1. First, let's create a project folder called \"My First Web Page\" on the computer's desktop :\n",
    "\n",
    "<img src=\"https://i.imgur.com/fHl0VtV.png\" width=\"300\">\n",
    "\n",
    "\n"
   ]
  },
  {
   "cell_type": "markdown",
   "metadata": {},
   "source": [
    "2. Launch VS Code and up the project folder in VS Code using \"File\" > \"Open Folder\"\n",
    "\n",
    "<img src=\"https://i.imgur.com/9CS0ASM.png\" width=\"420\">\n",
    "\n",
    "\n",
    "\n"
   ]
  },
  {
   "cell_type": "markdown",
   "metadata": {},
   "source": [
    "3. Create a new file called `webpage.html` and type the following code into it:\n",
    "\n",
    "\n",
    "```html\n",
    "<html>\n",
    "    <head>\n",
    "        <title>My First web page</title>\n",
    "    </head>\n",
    "    <body>\n",
    "        Hello HTML and CSS\n",
    "    </body>\n",
    "</html>\n",
    "\n",
    "```\n",
    "\n",
    "Save the file once you've added the code. We'll take a closer look at the code shortly.\n"
   ]
  },
  {
   "cell_type": "markdown",
   "metadata": {},
   "source": [
    "4. Open the web page in a browser. You can either double click on it, or right click and select \"Open With\" \n",
    "\n",
    "<img src=\"https://i.imgur.com/FTDMxu4.png\" width=\"420\">\n",
    "\n",
    "Notice that the title of the page and the text shown within the page are picked from the content we've entered within the file `webpage.html`"
   ]
  },
  {
   "cell_type": "markdown",
   "metadata": {},
   "source": [
    "## Understanding HTML Tags\n"
   ]
  },
  {
   "cell_type": "markdown",
   "metadata": {},
   "source": [
    "\n",
    "Tags are the building blocks of HTML, used to describe the structure and content of a webpage.\n",
    "\n",
    "<img src=\"https://i.imgur.com/tFslWYf.png\" width=\"320\">\n",
    "\n",
    "\n",
    "- Tags are denoted by angle brackets, with the opening tag starting with `<` and the closing tag starting with `'</'`.\n",
    "\n",
    "\n",
    "- The opening tag of a tag pair contains the name of the tag, such as `p` for a paragraph tag\n",
    "\n",
    "\n",
    "- The closing tag has the same name but with a forward slash before it, such as `</p>`.\n",
    "\n",
    "\n",
    "- A tag contains one or more children. A tag and its children are together referred to as an element.\n",
    "\n",
    "\n",
    "- Tags can contain attributes whose values are often used to modify the behavior of the tag\n",
    "\n",
    "\n",
    "- Different tags are used to create headings, paragraphs, lists, images, links, and other elements.\n",
    "\n",
    "\n",
    "\n",
    "- The `html` tag is often preceded by a `<!doctype>` declaration, which is used to indicate the version of HTML used in the page. Learn more about it here: https://www.w3schools.com/tags/tag_doctype.asp\n",
    "\n",
    "\n",
    "Let's look at some common tags used to create the layout of a page."
   ]
  },
  {
   "cell_type": "markdown",
   "metadata": {},
   "source": [
    "### `html` Tag\n",
    "\n",
    "Every web page starts with the `<html>` tag (and ends with it's corresponding closing tag `</html>`)\n",
    "\n",
    "<img src=\"https://i.imgur.com/OEK3Hde.png\" width=\"320\">\n",
    "\n",
    "\n",
    "- It's the outermost tag for every web page and must always be present.\n",
    "- It generally contains the tags `<head>` and `<body>` within it.\n",
    "- It has a `lang` attribute to indicate the language within the page.\n",
    "- You'll also often see a `<!doctype>` tag just above the HTML tag ([learn more](https://www.w3schools.com/tags/tag_doctype.asp))\n",
    "\n"
   ]
  },
  {
   "cell_type": "markdown",
   "metadata": {},
   "source": [
    "### `head` and `title` Tags\n",
    "\n",
    "<img src=\"https://i.imgur.com/wzTkyDh.png\" width=\"320\">\n",
    "\n",
    "The `<head>` tag is a container tag in HTML that appears after the `<html>` tag and before the `<body>` tag.\n",
    "\n",
    "\n",
    "- It's used to provide the title of the page, links to CSS stylesheets, and metadata for search engines and social media platforms.\n",
    "\n",
    "\n",
    "\n",
    "- The `<head>` tag doesn't contain any content that's visible on the web page itself, but it's essential for good web design and user experience.\n",
    "\n",
    "\n",
    "\n",
    "- You can include a variety of tags inside the `<head>` tag, such as the `<title>` tag for the page title, the `<meta>` tag for metadata, the `<link>` tag for stylesheets, and the `<script>` tag for scripts and code.\n",
    "\n",
    "\n",
    "\n",
    "For now, we'll just use the `<title>` tag within `<head>`. We'll add some more tags later when we're ready to deploy our website."
   ]
  },
  {
   "attachments": {},
   "cell_type": "markdown",
   "metadata": {},
   "source": [
    "### `body` Tag\n",
    "\n",
    "<img src=\"https://i.imgur.com/diObXWC.png\" width=\"320\">\n",
    "\n",
    "The body tag defines the main content of an HTML document.\n",
    "\n",
    "- It is usually placed after the head tag and contains all the visible elements of a web page.\n",
    "\n",
    "\n",
    "- The body tag can include other HTML tags such as headings, paragraphs, lists, links, and images.\n",
    "\n",
    "\n",
    "- You can add CSS styling and JavaScript code to the body tag to appearance and functionality.\n",
    "\n"
   ]
  },
  {
   "cell_type": "markdown",
   "metadata": {},
   "source": [
    "Here's an example of web page with some content within the `body` tag:\n",
    "\n",
    "```html\n",
    "<!DOCTYPE html>\n",
    "<html>\n",
    "<head>\n",
    "\t<title>My Web Page</title>\n",
    "</head>\n",
    "<body>\n",
    "\t<h1>Welcome to My Web Page</h1>\n",
    "\t<p>This is some text that will be displayed on the page.</p>\n",
    "\t<img src=\"https://i.imgur.com/diObXWC.png\" alt=\"An Image\">\n",
    "\t<a href=\"https://www.example.com\">Click here to go to Example.com</a>\n",
    "</body>\n",
    "</html>\n",
    "\n",
    "\n",
    "```\n",
    "\n",
    "We'll take a closer look at the tags used above as we build out our page."
   ]
  },
  {
   "cell_type": "markdown",
   "metadata": {},
   "source": [
    "### `div` Tag\n",
    "\n",
    "The div tag is an HTML element used to group and organize other HTML elements together.\n",
    "\n",
    "<img src=\"https://i.imgur.com/nyKoH6E.png\" width=\"360\">\n",
    "\n",
    "\n",
    "- The div tag stands for \"division\" and is used to divide or group content into logical sections.\n",
    "\n",
    "\n",
    "- It is a block-level element, meaning it takes up the full width of its container and creates a line break after it.\n",
    "\n",
    "\n",
    "- It does not have any inherent styling or semantic meaning, and its purpose is mainly to help with layout and organization of content.\n",
    "\n",
    "\n",
    "- It can be styled using CSS to control its appearance, such as its size, background color, border, and positioning.\n",
    "\n",
    "\n",
    "- It can also be used with JavaScript to manipulate its contents or perform actions based on user interaction."
   ]
  },
  {
   "cell_type": "markdown",
   "metadata": {},
   "source": [
    "Here's an example of a web page containing various div tags:\n",
    "\n",
    "```html\n",
    "<!DOCTYPE html>\n",
    "<html lang=\"en\">\n",
    "    <head>\n",
    "        <title>My First Web Page</title>\n",
    "    </head>\n",
    "    <body>\n",
    "        <div>This is some content</div>\n",
    "        <div>\n",
    "            This content creates a new line.\n",
    "            This content doesn't create a new line.\n",
    "        </div>\n",
    "        <div>\n",
    "            <div>Some</div><div>more</div><div>lines</div>\n",
    "        </div>\n",
    "    </body>\n",
    "</html>\n",
    "\n",
    "```"
   ]
  },
  {
   "cell_type": "markdown",
   "metadata": {},
   "source": [
    "The above code produces the following output: \n",
    "\n",
    "<img src=\"https://i.imgur.com/wV5DAWj.png\" width=\"480\">\n"
   ]
  },
  {
   "cell_type": "markdown",
   "metadata": {},
   "source": [
    "> **EXERCISE**: Can you explain why some content is on a new line while other content isn't?"
   ]
  },
  {
   "cell_type": "markdown",
   "metadata": {},
   "source": [
    "## Wireframes for Web Pages\n",
    "\n",
    "When building a web page, it's a good idea to plan ahead and create a wireframe before diving into the code.\n",
    "\n",
    "<img src=\"https://i.imgur.com/5FwNvaG.png\" width=\"480\">\n",
    "\n",
    "\n",
    "\n",
    "- A wireframe is a rough drawing of what the page should look like.\n",
    "\n",
    "\n",
    "- It serves as a visual guide while you're writing the HTML & CSS code\n",
    "\n",
    "\n",
    "- You can create a wireframe using pen and paper, or using digital whiteboards like [excalidraw.com](https://excalidraw.com)\n",
    "\n",
    "\n",
    "- Separating the design and implementation processes helps you focus on one component at a time\n",
    "\n",
    "\n",
    "**NOTE:** Professional web developers generally work with detailed design mockups of a page, not wireframes. These mockups are often created by UI/UX designers in accordance with a standardized design system.\n"
   ]
  },
  {
   "cell_type": "markdown",
   "metadata": {},
   "source": [
    "Let's recall the problem statement and create a wireframe:\n",
    "\n",
    "> **Problem Statement**: Create a web page that showcases job listings for Jovian, including the following:\n",
    "> \n",
    "> - A navbar at the top showing the Jovian logo\n",
    "> - A header section displaying a picture and some relevant information\n",
    "> - A list of job openings that include the job designation, location, and salary details\n",
    "> - A footer at the bottom of the web page with important links\n",
    ">\n",
    "> Make the page visually appealing and informative.\n",
    "\n"
   ]
  },
  {
   "attachments": {},
   "cell_type": "markdown",
   "metadata": {},
   "source": [
    "The following wireframe was created using [excalidraw.com](https://excalidraw.com) :\n",
    "\n",
    "<img src=\"https://i.imgur.com/dzEIWyN.png\" width=\"360\">"
   ]
  },
  {
   "cell_type": "markdown",
   "metadata": {},
   "source": [
    "> **EXERCISE**: Replicate the above wireframe using [Excalidraw](https://excalidraw.com). You can use [loremipsum.io](https://loremipsum.io) to generate fake text. Make some changes to the structure of the page e.g. add a section listing courses offered by Jovian."
   ]
  },
  {
   "cell_type": "markdown",
   "metadata": {},
   "source": [
    "## Adding Content in HTML\n",
    "\n",
    "Different tags are used to create headings, paragraphs, lists, images, links, and other elements. Let's build our page step by step using various tags."
   ]
  },
  {
   "attachments": {},
   "cell_type": "markdown",
   "metadata": {},
   "source": [
    "### Headings\n",
    "\n",
    "HTML headings are used to create headings or titles within a web page\n",
    "\n",
    "\n",
    "<img src=\"https://i.imgur.com/j57DzJM.png\" width=\"360\">\n",
    "\n",
    "- Headings are defined using the HTML `<h1>` to `<h6>` tags\n",
    "    \n",
    "    \n",
    "- `<h1>` is the highest level of heading and `<h6>` is the lowest.\n",
    "\n",
    "\n",
    "- Headings should be used in a logical order and accurately describe the content of the page\n",
    "\n",
    "\n",
    "- The `<h1>` tag should be used for the most important heading, `<h2>` for subheadings, and so on\n"
   ]
  },
  {
   "cell_type": "markdown",
   "metadata": {},
   "source": [
    "Let's add some headings into the body of our page:\n",
    "\n",
    "```html\n",
    "<body>\n",
    "    <h1>About Jovian</h1>\n",
    "    <h2>Job Opportunities</h2>\n",
    "    <h3>Frontend Developer</h3>\n",
    "    <h3>Backend Developer</h3>\n",
    "    <h3>Data Scientist</h3>\n",
    "</body>\n",
    "```"
   ]
  },
  {
   "cell_type": "markdown",
   "metadata": {},
   "source": [
    "This produces the following output:\n",
    "\n",
    "<img src=\"https://i.imgur.com/xqX1mtu.png\" width=\"480\">\n",
    "\n",
    "Our web page is slowly starting to take shape!"
   ]
  },
  {
   "cell_type": "markdown",
   "metadata": {},
   "source": [
    "> **EXERCISE**: Experiment with HTML headings by following this tutorial: https://www.w3schools.com/html/html_headings.asp"
   ]
  },
  {
   "cell_type": "markdown",
   "metadata": {},
   "source": [
    "### Text & Paragraphs\n",
    "\n",
    "<img src=\"https://i.imgur.com/ha1E0ZZ.png\" width=\"480\">\n",
    "\n",
    "The `p` and `span` tags are both used to define text in HTML:\n",
    "\n",
    "\n",
    "- The `p` tag defines a paragraph of text and is typically used for longer sections of text that form a distinct block.\n",
    "\n",
    "\n",
    "- The `span` tag defines a small section of text and is typically used for inline styling, such as changing the color of a single word or phrase."
   ]
  },
  {
   "cell_type": "markdown",
   "metadata": {},
   "source": [
    "We can now use the `p` tag to add some description below \"About Jovian\":\n",
    "\n",
    "```html\n",
    "<h1>About Jovian</h1>\n",
    "<p>At Jovian, we're on a mission to build\n",
    "    the world's most highly reputed technical\n",
    "    university, and we're building completely\n",
    "    online. We offer several beginner friendly \n",
    "    courses that are taken by 300,000+ registered\n",
    "    users. \n",
    "</p>\n",
    "\n",
    "```"
   ]
  },
  {
   "cell_type": "markdown",
   "metadata": {},
   "source": [
    "We can also add some `div`s and `span`s to indicate the locations for each job role under \"Job Opportunities\":\n",
    "\n",
    "```html\n",
    "<h2>Job Opportunities</h2>\n",
    "<div>\n",
    "    <h3>Frontend Developer</h3>\n",
    "    <span>Bengaluru, India</span>\n",
    "</div>\n",
    "<div>\n",
    "    <h3>Backend Developer</h3>\n",
    "    <span>Delhi, India</span>\n",
    "</div>\n",
    "<div>\n",
    "    <h3>Data Scientist</h3>\n",
    "    <span>Mumbai, India</span>\n",
    "</div>\n",
    "```\n",
    "\n",
    "**Tip**: You can right click within VS Code and select \"Format Document\" to add proper indentation into the code.\n"
   ]
  },
  {
   "cell_type": "markdown",
   "metadata": {},
   "source": [
    "This produces the following output:\n",
    "\n",
    "<img src=\"https://i.imgur.com/sgDdhux.png\" width=\"480\">"
   ]
  },
  {
   "cell_type": "markdown",
   "metadata": {},
   "source": [
    "Modifier tags, such as `b`, `i`, `u`, `strong`, `em`, etc., are used to modify the appearance or meaning of text within HTML:\n",
    "\n",
    "- The `b` tag is used to make text bold.\n",
    "- The `i` tag is used to italicize text.\n",
    "- The `u` tag is used to underline text.\n",
    "- The `strong` tag is used to indicate that the text is important and should be emphasized.\n",
    "- The `em` tag is used to indicate emphasis on text, typically displayed in italics.\n",
    "\n",
    "**NOTE**: Use of modifier tags like `b` and `i` is considered outdated. It is recommended to use CSS styles instead."
   ]
  },
  {
   "cell_type": "markdown",
   "metadata": {},
   "source": [
    "> **EXERCISE**: Use some modifier tags to highlight important keywords in the description below \"About Jovian\""
   ]
  },
  {
   "cell_type": "markdown",
   "metadata": {},
   "source": [
    "### Lists\n",
    "\n",
    "<img src=\"https://i.imgur.com/eUjGQsU.png\" width=\"480\">\n",
    "\n",
    "Special HTML tags are used to create lists, which allow for the presentation of information in an organized and structured manner. \n",
    "\n",
    "There are two types of lists in HTML:\n",
    "\n",
    "1. Unordered lists:\n",
    "\n",
    "  - Created using the `<ul>` tag\n",
    "  - List items are added using the `<li>` tag\n",
    "  - Bullet points are used to denote list items.\n",
    "  - Appearance of bullet points can be customized with CSS\n",
    "  \n",
    "  \n",
    "2. Ordered lists:\n",
    "\n",
    "  - Created using the `<ol>` tag\n",
    "  - List items are added using the `<li>` tag\n",
    "  - Numbers/characters are used to denote list items.\n",
    "  - Appearance of numbers can be customized with CSS\n",
    "  \n",
    " \n",
    "\n",
    "Lists can be nested within each other, allowing for the creation of sublists. It's important to close all tags properly to ensure that the page is rendered correctly.\n"
   ]
  },
  {
   "cell_type": "markdown",
   "metadata": {},
   "source": [
    "Let's some footer items to our page using the `ul` tag:\n",
    "\n",
    "\n",
    "```html\n",
    "<div>\n",
    "    <ul>\n",
    "        <li>Courses</li>\n",
    "        <li>Programs</li>\n",
    "        <li>YouTube</li>\n",
    "    </ul>\n",
    "    <span>© 2023, Jovian</span>\n",
    "</div>\n",
    "\n",
    "```\n"
   ]
  },
  {
   "cell_type": "markdown",
   "metadata": {},
   "source": [
    "Let's also update the \"About Jovian\" section to include the names of the 2 bootcamps we offer using `ol`:\n",
    "\n",
    "\n",
    "```html\n",
    "<h1>About Jovian</h1>\n",
    "<p>At Jovian, we're on a mission to build\n",
    "    the world's most highly reputed technical\n",
    "    university, and we're building completely\n",
    "    online. We offer several beginner friendly\n",
    "    courses that are taken by 300,000+ registered\n",
    "    users.\n",
    "</p>\n",
    "<p>We also offer 2 industry-focused bootcamps:\n",
    "    <ol>\n",
    "       <li>Jovian Full Stack Developer Bootcamp</li> \n",
    "       <li>Jovian Data Science Bootcamp</li>\n",
    "    </ol>\n",
    "</p>\n",
    "\n",
    "```\n",
    "\n",
    "\n"
   ]
  },
  {
   "cell_type": "markdown",
   "metadata": {},
   "source": [
    "These changes produce the following output:\n",
    "\n",
    "<img src=\"https://i.imgur.com/ikxV7dC.png\" width=\"480\">"
   ]
  },
  {
   "cell_type": "markdown",
   "metadata": {},
   "source": [
    "> **EXERCISE**: Learn more about HTML lists and experiment with nested lists by following this tutorial: https://www.tutorialspoint.com/html/html_lists.htm"
   ]
  },
  {
   "cell_type": "markdown",
   "metadata": {},
   "source": [
    "### Links\n",
    "\n",
    "\n",
    "The `a` tag is used to create hyperlinks in HTML i.e. links to other web pages or a different part of the same page.\n",
    "\n",
    "\n",
    "\n",
    "\n",
    "- The `a` tag must have an `href` attribute that specifies the URL of the destination page.\n",
    "\n",
    "\n",
    "- The text that is displayed as the link is placed between the opening and closing `a` tags.\n",
    "\n",
    "\n",
    "- You can use the `target` attribute to specify where the linked page should be opened, such as in a new tab or window.\n",
    "\n",
    "\n",
    "You can also create links to specific sections of a page by using the `id` attribute to identify the section and adding it to the URL in the `href` attribute."
   ]
  },
  {
   "cell_type": "markdown",
   "metadata": {},
   "source": [
    "Let's update the description section to include links to the two programs offered at Jovian:\n",
    "\n",
    "\n",
    "```html\n",
    "<ol>\n",
    "    <li>\n",
    "        <a href=\"https://www.jovian.com/full-stack-developer-bootcamp\">\n",
    "            Jovian Full Stack Developer Bootcamp\n",
    "        </a>\n",
    "    </li>\n",
    "    <li>\n",
    "        <a href=\"https://www.jovian.com/data-science-bootcamp\">\n",
    "            Jovian Data Science Bootcamp\n",
    "        </a>\n",
    "    </li>\n",
    "</ol>\n",
    "\n",
    "```\n",
    "\n"
   ]
  },
  {
   "cell_type": "markdown",
   "metadata": {},
   "source": [
    "Let's also update the footer section with appropriate links, and set them to open in a new tab:\n",
    "\n",
    "```html\n",
    "<ul>\n",
    "    <li>\n",
    "        <a href=\"https://jovian.com/learn\" target=\"_blank\">\n",
    "            Courses\n",
    "        </a>\n",
    "    </li>\n",
    "    <li>\n",
    "        <a href=\"https://jovian.com/learn\" target=\"_blank\">\n",
    "            Programs\n",
    "        </a>\n",
    "    </li>\n",
    "    <li>\n",
    "        <a href=\"https://www.youtube.com/@jovianhq\" target=\"_blank\">\n",
    "            YouTube\n",
    "        </a>\n",
    "    </li>\n",
    "</ul>\n",
    "\n",
    "```"
   ]
  },
  {
   "cell_type": "markdown",
   "metadata": {},
   "source": [
    "This produces the following output with proper links:\n",
    "\n",
    "<img src=\"https://i.imgur.com/tlKkyKI.png\" width=\"480\">"
   ]
  },
  {
   "cell_type": "markdown",
   "metadata": {},
   "source": [
    "> **EXERCISE**: Learn more & experiment with various types of HTML links by following this tutorial: https://www.w3schools.com/html/html_links.asp"
   ]
  },
  {
   "cell_type": "markdown",
   "metadata": {},
   "source": [
    "### Images\n",
    "\n",
    "The img tag is used to add images to an HTML page.\n",
    "\n",
    "<img src=\"https://i.imgur.com/ooK5rpu.png\" width=\"480\">\n",
    "\n",
    "- The `src` attribute of the `img` tag is used to specify the URL or file path of the image.\n",
    "\n",
    "\n",
    "- The `alt` attribute of the `img` tag is used to provide alternative text for the image, which is displayed if the image cannot be loaded.\n",
    "\n",
    "\n",
    "- The width and height attributes of the `img` tag can be used to specify the size of the image in pixels or as a percentage of the containing element.\n",
    "\n",
    "\n",
    "- It's good practice to include a descriptive `alt` attribute for each image, not only to improve accessibility but also for search engine optimization (SEO).\n",
    "\n",
    "\n",
    "- The `img` tag is a self-closing tag, meaning it doesn't need a closing tag. Example: `<img src=\"image.jpg\" alt=\"A beautiful sunset\" width=\"800\" height=\"600\">`.\n",
    "\n",
    "\n",
    "[Unsplash.com](https://unsplash.com) is a good place to find royalty-free images for your websites. You can place images in your project folder next to your HTML page, or upload them to a cloud service like [imgur.com](https://imgur.com)"
   ]
  },
  {
   "cell_type": "markdown",
   "metadata": {},
   "source": [
    "Let's download and save [this image](https://unsplash.com/photos/oqStl2L5oxI) as `banner.jpg` and [this image](https://unsplash.com/photos/Of_m3hMsoAA) as `team.jpg`.\n",
    "\n"
   ]
  },
  {
   "cell_type": "markdown",
   "metadata": {},
   "source": [
    "Let's add an image above \"About Jovian\":\n",
    "\n",
    "```html\n",
    "<body>\n",
    "    <img src=\"banner.jpg\" alt=\"Banner\" height=\"240\">\n",
    "    <h1>About Jovian</h1>\n",
    "...\n",
    "\n",
    "```\n",
    "\n",
    "\n"
   ]
  },
  {
   "cell_type": "markdown",
   "metadata": {},
   "source": [
    "Let's add another image before job opportunities:\n",
    "\n",
    "```html\n",
    "<img src=\"team.jpg\" height=\"240\" alt=\"team\">\n",
    "<h2>Job Opportunities</h2>\n",
    "\n",
    "```\n",
    "\n",
    "Note that we've added a height attribute to each image to limite the space it takes up on the page."
   ]
  },
  {
   "cell_type": "markdown",
   "metadata": {},
   "source": [
    "> **EXERCISE**: Learn more and experiment with HTML images by following this tutorial: https://www.w3schools.com/html/html_images.asp"
   ]
  },
  {
   "cell_type": "markdown",
   "metadata": {},
   "source": [
    "At this point, our page contains the desired content, and we can start styling it to match the wireframe using CSS.\n",
    "\n",
    "<img src=\"https://i.imgur.com/3UCxwmK.png\" width=\"360\" >"
   ]
  },
  {
   "cell_type": "markdown",
   "metadata": {},
   "source": [
    "> **EXERCISE**: Follow this tutorial to learn about other HTML tags and use them within the page you're building: https://www.htmldog.com/guides/html/ ."
   ]
  },
  {
   "cell_type": "markdown",
   "metadata": {},
   "source": [
    "## Adding Styles with CSS\n",
    "\n",
    "**CSS (Cascading Style Sheets)** is used to describe the presentation of HTML documents. It allows you to control layout and appearance by defining styles for elements such as fonts, colors, margins, borders, and more.\n",
    "\n",
    "Let's look at different ways to apply CSS styles by attempting to center the heading \"About Jovian\" and changing its color to indigo. The resulting page will look like this:\n",
    "\n",
    "<img src=\"https://i.imgur.com/vzWqYMW.png\" width=\"480\">"
   ]
  },
  {
   "cell_type": "markdown",
   "metadata": {},
   "source": [
    "### Inline Styles\n",
    "\n",
    "One way to achieve this is using the `style` attribute directly within HTML:\n",
    "\n",
    "\n",
    "```html\n",
    "<h1 style=\"text-align: center; color: indigo;\">About Jovian</h1>\n",
    "```"
   ]
  },
  {
   "attachments": {},
   "cell_type": "markdown",
   "metadata": {},
   "source": [
    "`text-align` and `color` are both properties and `center` and `indigo` are their respective values. \n",
    "\n",
    "<img src=\"https://i.imgur.com/40iT36z.png\" width=\"360\">"
   ]
  },
  {
   "cell_type": "markdown",
   "metadata": {},
   "source": [
    "### The `style` Tag\n",
    "\n",
    "Another way to do this is using a style tag within the `head` or `body`. \n",
    "\n",
    "\n",
    "```html\n",
    "<head>\n",
    "    <title>My First Web Page</title>\n",
    "    <style>\n",
    "        h1 {\n",
    "            text-align: center;\n",
    "            color: indigo;\n",
    "        }\n",
    "    </style>\n",
    "</head>\n",
    "```\n",
    "\n",
    "In this case, the properties are applied to all `h1` tags on the page.\n",
    "\n",
    "\n",
    "<img src=\"https://i.imgur.com/Nb0Na9X.png\" width=\"360\">"
   ]
  },
  {
   "cell_type": "markdown",
   "metadata": {},
   "source": [
    "### CSS Files\n",
    "\n",
    "Yet another way is to create a separate file containing the styles with a `.css` extension and connect it to the HTML page using the `link` tag.\n",
    "\n"
   ]
  },
  {
   "cell_type": "markdown",
   "metadata": {},
   "source": [
    "Create a file `styles.css` and put the following content into it: \n",
    "\n",
    "\n",
    "```css\n",
    "h1 {\n",
    "    text-align: center;\n",
    "    color: indigo;\n",
    "}\n",
    "```"
   ]
  },
  {
   "cell_type": "markdown",
   "metadata": {},
   "source": [
    "Then, put the following content into the `head` of `webpage.html`:\n",
    "\n",
    "```html\n",
    "<head>\n",
    "    <title>My First Web Page</title>\n",
    "    <link rel=\"stylesheet\" href=\"styles.css\">\n",
    "</head>\n",
    "```\n"
   ]
  },
  {
   "cell_type": "markdown",
   "metadata": {},
   "source": [
    "> **EXERCISE**: Learn more & experiment with the different ways to add CSS here: https://www.w3schools.com/css/css_howto.asp\n"
   ]
  },
  {
   "cell_type": "markdown",
   "metadata": {},
   "source": [
    "### Selectors\n",
    "\n",
    "When using the style tag or a separate CSS file, CSS properties can be applied to the desired elements on the page using different types of selectors:\n",
    "\n",
    "\n",
    "1. **Tag**: We've already seen this in action above with the `h1` tag.\n",
    "\n",
    "\n",
    "```css\n",
    "h1 {\n",
    "    text-align: center;\n",
    "    color: indigo;\n",
    "}\n",
    "```\n",
    "\n",
    "\n",
    "2. **ID**: We can set the `id` attribute of a tag and then use the `#` prefix to select it in a CSS\n",
    "\n",
    "```html\n",
    "<img id=\"banner\" src=\"...\">\n",
    "```\n",
    "\n",
    "```css\n",
    "#banner {\n",
    "    width: 100%;\n",
    "}\n",
    "```\n",
    "\n",
    "\n",
    "\n",
    "3. **Class**: We can set the `class` attribute of one or more tags and use the `.` prefix to select it in CSS\n",
    "\n",
    "\n",
    "```html\n",
    "<div>\n",
    "    <h3>Frontend Developer</h2>\n",
    "    <span class=\"location\">Bengaluru, India</span>\n",
    "<div>\n",
    "<div>\n",
    "    <h3>Backend Developer</h2>\n",
    "    <span class=\"location\">New Delhi, India</span>\n",
    "<div>\n",
    "\n",
    "```\n",
    "\n",
    "```css\n",
    ".location {\n",
    "    color: gray;\n",
    "}\n",
    "```\n",
    "\n",
    "\n",
    "\n",
    "Selectors of various types can also be combined to selecting a specific set of elements matching all the conditions.\n",
    "\n"
   ]
  },
  {
   "cell_type": "markdown",
   "metadata": {},
   "source": [
    "\n",
    "> **EXERCISE**: Learn more & experiment with various types of CSS selectors here: https://www.w3schools.com/css/css_selectors.asp"
   ]
  },
  {
   "cell_type": "markdown",
   "metadata": {},
   "source": [
    "## The CSS Box Model\n",
    "\n",
    "The CSS box model describes how HTML elements are rendered as rectangular boxes in a web page. The box is composed of several layers that determine the layout and sizing of the element. \n",
    "\n",
    "<img src=\"https://i.imgur.com/ThKeB4Y.png\" width=\"360\"> \n",
    "\n"
   ]
  },
  {
   "cell_type": "markdown",
   "metadata": {},
   "source": [
    "Here are the main components of the CSS box model:\n",
    "\n",
    "1. **Content**: The actual content of the HTML element, such as text, images, or videos.\n",
    "\n",
    "  - The size of the content can be controlled using the `height` and `width` properties.\n",
    "\n",
    "\n",
    "2. **Padding**: The space between the content and the border of the element. \n",
    "\n",
    "  - Padding can be set for all sides or for each side individually.\n",
    "  - The background color set for the content also applies to the padding area\n",
    "\n",
    "\n",
    "3. **Border**: The border that surrounds the content and padding. \n",
    "  - Borders can be set for all sides or for each side individually\n",
    "  - Borders can be styled with various properties such as color, width, and style.\n",
    "\n",
    "\n",
    "4. **Margin**: The space between the border of the element and the adjacent elements. \n",
    "  - Margins can be set for all sides or for each side individually.\n",
    "  - The background color set for the content does not apply to the margin area.\n",
    "  - Margins for two elements can overlap, and collapses to the larger value"
   ]
  },
  {
   "cell_type": "markdown",
   "metadata": {},
   "source": [
    "We'll create a file `boxmodel.html` to experiment with the CSS box model."
   ]
  },
  {
   "attachments": {},
   "cell_type": "markdown",
   "metadata": {},
   "source": [
    "## Implementing the Wireframe\n",
    "\n",
    "We can now implement the wireframe by applying styles step by step:\n",
    "\n",
    "\n",
    "1. **Basic Styles**: We'll apply some styles to the body \n",
    "\n",
    "\n",
    "\n",
    "2. **Nav Bar**: We'll add a nav bar at the top showing the Jovian logo: https://i.imgur.com/m1wXjqw.png\n",
    "\n",
    "\n",
    "3. **Banner Image**: We'll extend the banner image to show from left to right\n",
    "\n",
    "\n",
    "4. **About Jovian**: We'll center the heading, and show the description and image side by side. We'll also limit the width of this section\n",
    "\n",
    "\n",
    "5. **Jobs**: We'll limit the width of this section, move the apply button to the right, and make the location gray\n",
    "\n",
    "\n",
    "6. **Footer**: We'll center the links, show them on the same line and make the copyright text gray. We'll also add a light gray background color.\n",
    "\n",
    "\n"
   ]
  },
  {
   "cell_type": "markdown",
   "metadata": {},
   "source": [
    "Here's what the final page looks like: \n",
    "\n",
    "<img src=\"https://i.imgur.com/cyRhOCP.png\" width=\"360\">"
   ]
  },
  {
   "cell_type": "markdown",
   "metadata": {},
   "source": [
    "> **EXERCISE**: Follow the basic and intermediate tutorials on this to learn more about various CSS properties: https://www.htmldog.com/guides/css/ ."
   ]
  },
  {
   "cell_type": "markdown",
   "metadata": {},
   "source": [
    "## Deploying to the Cloud\n",
    "\n",
    "While there are many ways to deploy a website to the cloud, we'll use a really simple platform called [static.app](https://static.app).\n",
    "\n",
    "Here's how it works:\n",
    "\n",
    "1. Make sure you have a file `index.html` in your project folder\n",
    "1. Create a ZIP archive using your project folder\n",
    "2. Visit https://static.app and upload the ZIP file\n",
    "3. Create an account by providing email, name and password\n",
    "4. Verify your account using the link sent over email\n",
    "4. The website will be deployed as a subdomain of `static.app`\n",
    "\n",
    "That's it, your website is live! You can now share the link with your friends & colleagues.\n",
    "\n",
    "\n",
    "You can also connect your website to custom domain by upgrading to a paid plan."
   ]
  },
  {
   "cell_type": "markdown",
   "metadata": {},
   "source": [
    "## Summary and References\n",
    "\n",
    "\n",
    "\n"
   ]
  },
  {
   "cell_type": "markdown",
   "metadata": {},
   "source": [
    "The following topics were covered in this tutorial:\n",
    "\n",
    "- Creating an HTML file, adding code into it using VS Code, and viewing it in a browser\n",
    "- Using basic HTML tags (html, head, title, body, div etc.) to create a web page\n",
    "- Using HTML tags (h1 to h6, p, lists, link, images) to structure content on a page\n",
    "- Styling HTML tags using CSS and replicating the structure of a desired wireframe\n",
    "- Understanding the CSS box model and inspecting other websites to improve CSS skills\n",
    "- Uploading an HTML page to GitHub repository and deploying to a cloud platform\n",
    "\n",
    "\n",
    "You can find the completed code for this lesson here: https://github.com/JovianHQ/web-development-with-html-and-css/tree/main/lesson-1-html-and-css-basics"
   ]
  },
  {
   "cell_type": "markdown",
   "metadata": {},
   "source": [
    "Check out these resources to learn more:\n",
    "\n",
    "- Beginner friendly HTML & CSS tutorials:\n",
    "  - HTML - https://htmldog.com/guides/html/\n",
    "  - CSS - https://htmldog.com/guides/css/ \n",
    "- Interactive HTML tutorials: https://www.w3schools.com/html/html_basic.asp \n",
    "- HTML elements reference: https://developer.mozilla.org/en-US/docs/Web/HTML/Element \n",
    "- MDN tutorials (more detailed & comprehensive)\n",
    "- HTML - https://developer.mozilla.org/en-US/docs/Learn/HTML\n",
    "- CSS - https://developer.mozilla.org/en-US/docs/Learn/CSS \n",
    "- Lorem ipsum generator: https://loremipsum.io/ \n",
    "- Guides from CSS tricks: https://css-tricks.com/guides/ \n",
    "- CSS box models tutorial: https://www.youtube.com/watch?v=rIO5326FgPE\n",
    "- Mailto Link generator: https://mailtolink.me/\n"
   ]
  }
 ],
 "metadata": {
  "kernelspec": {
   "display_name": "Python 3 (ipykernel)",
   "language": "python",
   "name": "python3"
  },
  "language_info": {
   "codemirror_mode": {
    "name": "ipython",
    "version": 3
   },
   "file_extension": ".py",
   "mimetype": "text/x-python",
   "name": "python",
   "nbconvert_exporter": "python",
   "pygments_lexer": "ipython3",
   "version": "3.9.7"
  }
 },
 "nbformat": 4,
 "nbformat_minor": 2
}
